{
 "cells": [
  {
   "cell_type": "markdown",
   "metadata": {},
   "source": [
    "# LSTM\n",
    "\n",
    "* We will implement it with tensorflow library together with LSTM tool for sentiment analysis in tweets. \n",
    "* Unlike the LSTM (Long short-term memory) method, it is a deep learning method.\n",
    "* Data preprocessing steps are similar to Naive Bayes vs Logistic Regression methods, but the classification of tweets is different."
   ]
  },
  {
   "cell_type": "code",
   "execution_count": 1,
   "metadata": {
    "colab": {
     "base_uri": "https://localhost:8080/"
    },
    "executionInfo": {
     "elapsed": 19788,
     "status": "ok",
     "timestamp": 1621801843753,
     "user": {
      "displayName": "Melike Akalan",
      "photoUrl": "",
      "userId": "07496756220803219284"
     },
     "user_tz": -180
    },
    "id": "MexCzLZLZ6oi",
    "outputId": "e3ee73f5-48db-4e0d-ce25-84ada2213ae2"
   },
   "outputs": [
    {
     "name": "stdout",
     "output_type": "stream",
     "text": [
      "Mounted at /content/drive\n"
     ]
    }
   ],
   "source": [
    "# mounting the drive\n",
    "from google.colab import drive\n",
    "drive.mount('/content/drive')"
   ]
  },
  {
   "cell_type": "code",
   "execution_count": 2,
   "metadata": {
    "executionInfo": {
     "elapsed": 1599,
     "status": "ok",
     "timestamp": 1621801847368,
     "user": {
      "displayName": "Melike Akalan",
      "photoUrl": "",
      "userId": "07496756220803219284"
     },
     "user_tz": -180
    },
    "id": "3EqSjyydaR4o"
   },
   "outputs": [],
   "source": [
    "# Importing libararies and modules\n",
    "import tensorflow as tf\n",
    "import pandas as pd\n",
    "import numpy as np\n",
    "import matplotlib.pyplot as plt\n",
    "\n",
    "# colab da işe yaramıyor jupyter de kullanmak için\n",
    "#from nltk.corpus import twitter_samples \n"
   ]
  },
  {
   "cell_type": "code",
   "execution_count": 3,
   "metadata": {
    "executionInfo": {
     "elapsed": 4980,
     "status": "ok",
     "timestamp": 1621801853980,
     "user": {
      "displayName": "Melike Akalan",
      "photoUrl": "",
      "userId": "07496756220803219284"
     },
     "user_tz": -180
    },
    "id": "61eprq1ta2hk"
   },
   "outputs": [],
   "source": [
    "# reading the data in a dataframe df\n",
    "\n",
    "# for use in colab\n",
    "df_pos = pd.read_json(r'/content/drive/MyDrive/Bitirme_P/positive_tweets.json', lines = True, encoding='utf-8')\n",
    "df_neg = pd.read_json(r'/content/drive/MyDrive/Bitirme_P/negative_tweets.json', lines = True, encoding='utf-8')\n",
    "\n",
    "# for use in Jupyter notebook\n",
    "#df_pos = pd.read_json(\"positive_tweets.json\", lines = True, encoding= 'UTF-8')\n",
    "#df_neg = pd.read_json(\"negative_tweets.json\", lines = True, encoding= 'UTF-8')"
   ]
  },
  {
   "cell_type": "code",
   "execution_count": 4,
   "metadata": {
    "colab": {
     "base_uri": "https://localhost:8080/"
    },
    "executionInfo": {
     "elapsed": 272,
     "status": "ok",
     "timestamp": 1621801855925,
     "user": {
      "displayName": "Melike Akalan",
      "photoUrl": "",
      "userId": "07496756220803219284"
     },
     "user_tz": -180
    },
    "id": "6DAPf7rXcXXb",
    "outputId": "73b6b6f3-f26d-44f8-e7f5-f0ecb8062ec0"
   },
   "outputs": [
    {
     "name": "stdout",
     "output_type": "stream",
     "text": [
      "(5000, 28)\n",
      "(5000, 28)\n"
     ]
    }
   ],
   "source": [
    "print(df_pos.shape)\n",
    "print(df_neg.shape)"
   ]
  },
  {
   "cell_type": "code",
   "execution_count": 5,
   "metadata": {
    "colab": {
     "base_uri": "https://localhost:8080/"
    },
    "executionInfo": {
     "elapsed": 4,
     "status": "ok",
     "timestamp": 1621801858672,
     "user": {
      "displayName": "Melike Akalan",
      "photoUrl": "",
      "userId": "07496756220803219284"
     },
     "user_tz": -180
    },
    "id": "niY_hEKXbzy0",
    "outputId": "c8d230f7-a65e-4da6-e845-96cd6cff4894"
   },
   "outputs": [
    {
     "name": "stdout",
     "output_type": "stream",
     "text": [
      "5000\n",
      "5000\n"
     ]
    }
   ],
   "source": [
    "# Tagging positive tweets\n",
    "\n",
    "positive_sentiment = []\n",
    "for i in range(0,5000):\n",
    "    positive_sentiment.append(1)\n",
    "print(len(positive_sentiment)) \n",
    "\n",
    "df_pos['sentiment'] = positive_sentiment \n",
    "\n",
    "# creating an 'id' column for tweets\n",
    "dataframe_id = []\n",
    "for i in range(0,5000):\n",
    "    i+=1\n",
    "    dataframe_id.append(i)\n",
    "print(len(dataframe_id)) \n",
    "\n",
    "df_pos['df_id'] = dataframe_id "
   ]
  },
  {
   "cell_type": "code",
   "execution_count": 6,
   "metadata": {
    "executionInfo": {
     "elapsed": 10,
     "status": "ok",
     "timestamp": 1621801861685,
     "user": {
      "displayName": "Melike Akalan",
      "photoUrl": "",
      "userId": "07496756220803219284"
     },
     "user_tz": -180
    },
    "id": "DZ0WRlksc-L6"
   },
   "outputs": [],
   "source": [
    "# Tagging positive tweets\n",
    "\n",
    "negative_sentiment = []\n",
    "for i in range(0,5000):\n",
    "    negative_sentiment.append(0)\n",
    "\n",
    "df_neg['sentiment'] = negative_sentiment\n",
    "\n",
    "# creating an 'id' column for tweets\n",
    "dataframe_id = []\n",
    "for i in range(5000,10000):\n",
    "    i+=1\n",
    "    dataframe_id.append(i)\n",
    "    \n",
    "df_neg['df_id'] = dataframe_id "
   ]
  },
  {
   "cell_type": "code",
   "execution_count": 7,
   "metadata": {
    "colab": {
     "base_uri": "https://localhost:8080/",
     "height": 534
    },
    "executionInfo": {
     "elapsed": 22,
     "status": "ok",
     "timestamp": 1621801864857,
     "user": {
      "displayName": "Melike Akalan",
      "photoUrl": "",
      "userId": "07496756220803219284"
     },
     "user_tz": -180
    },
    "id": "YKd_GMa6dmTz",
    "outputId": "fac21d03-1314-423d-d0b6-7221608d4c16"
   },
   "outputs": [
    {
     "name": "stdout",
     "output_type": "stream",
     "text": [
      "(10000, 30)\n"
     ]
    },
    {
     "data": {
      "text/html": [
       "<div>\n",
       "<style scoped>\n",
       "    .dataframe tbody tr th:only-of-type {\n",
       "        vertical-align: middle;\n",
       "    }\n",
       "\n",
       "    .dataframe tbody tr th {\n",
       "        vertical-align: top;\n",
       "    }\n",
       "\n",
       "    .dataframe thead th {\n",
       "        text-align: right;\n",
       "    }\n",
       "</style>\n",
       "<table border=\"1\" class=\"dataframe\">\n",
       "  <thead>\n",
       "    <tr style=\"text-align: right;\">\n",
       "      <th></th>\n",
       "      <th>contributors</th>\n",
       "      <th>coordinates</th>\n",
       "      <th>text</th>\n",
       "      <th>user</th>\n",
       "      <th>retweet_count</th>\n",
       "      <th>favorited</th>\n",
       "      <th>entities</th>\n",
       "      <th>source</th>\n",
       "      <th>truncated</th>\n",
       "      <th>geo</th>\n",
       "      <th>in_reply_to_status_id_str</th>\n",
       "      <th>is_quote_status</th>\n",
       "      <th>in_reply_to_user_id_str</th>\n",
       "      <th>place</th>\n",
       "      <th>in_reply_to_status_id</th>\n",
       "      <th>in_reply_to_screen_name</th>\n",
       "      <th>lang</th>\n",
       "      <th>retweeted</th>\n",
       "      <th>in_reply_to_user_id</th>\n",
       "      <th>created_at</th>\n",
       "      <th>metadata</th>\n",
       "      <th>favorite_count</th>\n",
       "      <th>id_str</th>\n",
       "      <th>id</th>\n",
       "      <th>possibly_sensitive</th>\n",
       "      <th>quoted_status_id</th>\n",
       "      <th>quoted_status</th>\n",
       "      <th>quoted_status_id_str</th>\n",
       "      <th>sentiment</th>\n",
       "      <th>df_id</th>\n",
       "    </tr>\n",
       "  </thead>\n",
       "  <tbody>\n",
       "    <tr>\n",
       "      <th>4995</th>\n",
       "      <td>NaN</td>\n",
       "      <td>None</td>\n",
       "      <td>I wanna change my avi but uSanele :(</td>\n",
       "      <td>{'screen_name': '__Zanele', 'time_zone': None,...</td>\n",
       "      <td>0</td>\n",
       "      <td>False</td>\n",
       "      <td>{'hashtags': [], 'user_mentions': [], 'urls': ...</td>\n",
       "      <td>&lt;a href=\"http://twitter.com\" rel=\"nofollow\"&gt;Tw...</td>\n",
       "      <td>False</td>\n",
       "      <td>None</td>\n",
       "      <td>NaN</td>\n",
       "      <td>False</td>\n",
       "      <td>NaN</td>\n",
       "      <td>None</td>\n",
       "      <td>NaN</td>\n",
       "      <td>None</td>\n",
       "      <td>en</td>\n",
       "      <td>False</td>\n",
       "      <td>NaN</td>\n",
       "      <td>2015-07-24 09:49:40+00:00</td>\n",
       "      <td>{'iso_language_code': 'en', 'result_type': 're...</td>\n",
       "      <td>0</td>\n",
       "      <td>624516792388599808</td>\n",
       "      <td>624516792388599808</td>\n",
       "      <td>NaN</td>\n",
       "      <td>NaN</td>\n",
       "      <td>NaN</td>\n",
       "      <td>NaN</td>\n",
       "      <td>0</td>\n",
       "      <td>9996</td>\n",
       "    </tr>\n",
       "    <tr>\n",
       "      <th>4996</th>\n",
       "      <td>NaN</td>\n",
       "      <td>None</td>\n",
       "      <td>MY PUPPY BROKE HER FOOT :(</td>\n",
       "      <td>{'screen_name': 'ShawnsToronto', 'time_zone': ...</td>\n",
       "      <td>0</td>\n",
       "      <td>False</td>\n",
       "      <td>{'hashtags': [], 'user_mentions': [], 'urls': ...</td>\n",
       "      <td>&lt;a href=\"http://twitter.com/download/iphone\" r...</td>\n",
       "      <td>False</td>\n",
       "      <td>None</td>\n",
       "      <td>NaN</td>\n",
       "      <td>False</td>\n",
       "      <td>NaN</td>\n",
       "      <td>None</td>\n",
       "      <td>NaN</td>\n",
       "      <td>None</td>\n",
       "      <td>en</td>\n",
       "      <td>False</td>\n",
       "      <td>NaN</td>\n",
       "      <td>2015-07-24 09:49:40+00:00</td>\n",
       "      <td>{'iso_language_code': 'en', 'result_type': 're...</td>\n",
       "      <td>5</td>\n",
       "      <td>624516790488551424</td>\n",
       "      <td>624516790488551424</td>\n",
       "      <td>NaN</td>\n",
       "      <td>NaN</td>\n",
       "      <td>NaN</td>\n",
       "      <td>NaN</td>\n",
       "      <td>0</td>\n",
       "      <td>9997</td>\n",
       "    </tr>\n",
       "    <tr>\n",
       "      <th>4997</th>\n",
       "      <td>NaN</td>\n",
       "      <td>None</td>\n",
       "      <td>where's all the jaebum baby pictures :((</td>\n",
       "      <td>{'screen_name': 'backtomemp3', 'time_zone': 'E...</td>\n",
       "      <td>0</td>\n",
       "      <td>False</td>\n",
       "      <td>{'hashtags': [], 'user_mentions': [], 'urls': ...</td>\n",
       "      <td>&lt;a href=\"http://twitter.com/#!/download/ipad\" ...</td>\n",
       "      <td>False</td>\n",
       "      <td>None</td>\n",
       "      <td>NaN</td>\n",
       "      <td>False</td>\n",
       "      <td>NaN</td>\n",
       "      <td>None</td>\n",
       "      <td>NaN</td>\n",
       "      <td>None</td>\n",
       "      <td>en</td>\n",
       "      <td>False</td>\n",
       "      <td>NaN</td>\n",
       "      <td>2015-07-24 09:49:38+00:00</td>\n",
       "      <td>{'iso_language_code': 'en', 'result_type': 're...</td>\n",
       "      <td>0</td>\n",
       "      <td>624516784289390592</td>\n",
       "      <td>624516784289390593</td>\n",
       "      <td>NaN</td>\n",
       "      <td>NaN</td>\n",
       "      <td>NaN</td>\n",
       "      <td>NaN</td>\n",
       "      <td>0</td>\n",
       "      <td>9998</td>\n",
       "    </tr>\n",
       "    <tr>\n",
       "      <th>4998</th>\n",
       "      <td>NaN</td>\n",
       "      <td>None</td>\n",
       "      <td>But but Mr Ahmad Maslan cooks too :( https://t...</td>\n",
       "      <td>{'screen_name': 'syafiqqah', 'time_zone': 'Kua...</td>\n",
       "      <td>0</td>\n",
       "      <td>False</td>\n",
       "      <td>{'hashtags': [], 'user_mentions': [], 'urls': ...</td>\n",
       "      <td>&lt;a href=\"http://twitter.com/download/android\" ...</td>\n",
       "      <td>False</td>\n",
       "      <td>None</td>\n",
       "      <td>NaN</td>\n",
       "      <td>True</td>\n",
       "      <td>NaN</td>\n",
       "      <td>None</td>\n",
       "      <td>NaN</td>\n",
       "      <td>None</td>\n",
       "      <td>en</td>\n",
       "      <td>False</td>\n",
       "      <td>NaN</td>\n",
       "      <td>2015-07-24 09:49:38+00:00</td>\n",
       "      <td>{'iso_language_code': 'en', 'result_type': 're...</td>\n",
       "      <td>2</td>\n",
       "      <td>624516784226340864</td>\n",
       "      <td>624516784226340864</td>\n",
       "      <td>0.0</td>\n",
       "      <td>6.244883e+17</td>\n",
       "      <td>{'contributors': None, 'coordinates': None, 't...</td>\n",
       "      <td>6.244883e+17</td>\n",
       "      <td>0</td>\n",
       "      <td>9999</td>\n",
       "    </tr>\n",
       "    <tr>\n",
       "      <th>4999</th>\n",
       "      <td>NaN</td>\n",
       "      <td>None</td>\n",
       "      <td>@eawoman As a Hull supporter I am expecting a ...</td>\n",
       "      <td>{'screen_name': 'AndrewByrom1', 'time_zone': N...</td>\n",
       "      <td>0</td>\n",
       "      <td>False</td>\n",
       "      <td>{'hashtags': [], 'user_mentions': [{'id_str': ...</td>\n",
       "      <td>&lt;a href=\"http://twitter.com/download/android\" ...</td>\n",
       "      <td>False</td>\n",
       "      <td>None</td>\n",
       "      <td>6.245120e+17</td>\n",
       "      <td>False</td>\n",
       "      <td>289534486.0</td>\n",
       "      <td>{'place_type': 'city', 'full_name': 'Leeds, En...</td>\n",
       "      <td>6.245120e+17</td>\n",
       "      <td>eawoman</td>\n",
       "      <td>en</td>\n",
       "      <td>False</td>\n",
       "      <td>289534486.0</td>\n",
       "      <td>2015-07-24 09:49:38+00:00</td>\n",
       "      <td>{'iso_language_code': 'en', 'result_type': 're...</td>\n",
       "      <td>0</td>\n",
       "      <td>624516782557151232</td>\n",
       "      <td>624516782557151232</td>\n",
       "      <td>NaN</td>\n",
       "      <td>NaN</td>\n",
       "      <td>NaN</td>\n",
       "      <td>NaN</td>\n",
       "      <td>0</td>\n",
       "      <td>10000</td>\n",
       "    </tr>\n",
       "  </tbody>\n",
       "</table>\n",
       "</div>"
      ],
      "text/plain": [
       "      contributors coordinates  ... sentiment  df_id\n",
       "4995           NaN        None  ...         0   9996\n",
       "4996           NaN        None  ...         0   9997\n",
       "4997           NaN        None  ...         0   9998\n",
       "4998           NaN        None  ...         0   9999\n",
       "4999           NaN        None  ...         0  10000\n",
       "\n",
       "[5 rows x 30 columns]"
      ]
     },
     "execution_count": 7,
     "metadata": {
      "tags": []
     },
     "output_type": "execute_result"
    }
   ],
   "source": [
    "# Two json files merged on dataframe by adding lines\n",
    "df_tam = pd.concat([df_pos, df_neg])\n",
    "print(df_tam.shape)\n",
    "df_tam.tail()"
   ]
  },
  {
   "cell_type": "code",
   "execution_count": 8,
   "metadata": {
    "colab": {
     "base_uri": "https://localhost:8080/",
     "height": 343
    },
    "executionInfo": {
     "elapsed": 28,
     "status": "ok",
     "timestamp": 1621801867661,
     "user": {
      "displayName": "Melike Akalan",
      "photoUrl": "",
      "userId": "07496756220803219284"
     },
     "user_tz": -180
    },
    "id": "2OUvJj9TftWK",
    "outputId": "ebc2ee73-8249-4bb2-84d0-e7c977310e21"
   },
   "outputs": [
    {
     "data": {
      "text/html": [
       "<div>\n",
       "<style scoped>\n",
       "    .dataframe tbody tr th:only-of-type {\n",
       "        vertical-align: middle;\n",
       "    }\n",
       "\n",
       "    .dataframe tbody tr th {\n",
       "        vertical-align: top;\n",
       "    }\n",
       "\n",
       "    .dataframe thead th {\n",
       "        text-align: right;\n",
       "    }\n",
       "</style>\n",
       "<table border=\"1\" class=\"dataframe\">\n",
       "  <thead>\n",
       "    <tr style=\"text-align: right;\">\n",
       "      <th></th>\n",
       "      <th>df_id</th>\n",
       "      <th>sentiment</th>\n",
       "      <th>text</th>\n",
       "    </tr>\n",
       "  </thead>\n",
       "  <tbody>\n",
       "    <tr>\n",
       "      <th>0</th>\n",
       "      <td>1</td>\n",
       "      <td>1</td>\n",
       "      <td>#FollowFriday @France_Inte @PKuchly57 @Milipol...</td>\n",
       "    </tr>\n",
       "    <tr>\n",
       "      <th>1</th>\n",
       "      <td>2</td>\n",
       "      <td>1</td>\n",
       "      <td>@Lamb2ja Hey James! How odd :/ Please call our...</td>\n",
       "    </tr>\n",
       "    <tr>\n",
       "      <th>2</th>\n",
       "      <td>3</td>\n",
       "      <td>1</td>\n",
       "      <td>@DespiteOfficial we had a listen last night :)...</td>\n",
       "    </tr>\n",
       "    <tr>\n",
       "      <th>3</th>\n",
       "      <td>4</td>\n",
       "      <td>1</td>\n",
       "      <td>@97sides CONGRATS :)</td>\n",
       "    </tr>\n",
       "    <tr>\n",
       "      <th>4</th>\n",
       "      <td>5</td>\n",
       "      <td>1</td>\n",
       "      <td>yeaaaah yippppy!!!  my accnt verified rqst has...</td>\n",
       "    </tr>\n",
       "    <tr>\n",
       "      <th>5</th>\n",
       "      <td>6</td>\n",
       "      <td>1</td>\n",
       "      <td>@BhaktisBanter @PallaviRuhail This one is irre...</td>\n",
       "    </tr>\n",
       "    <tr>\n",
       "      <th>6</th>\n",
       "      <td>7</td>\n",
       "      <td>1</td>\n",
       "      <td>We don't like to keep our lovely customers wai...</td>\n",
       "    </tr>\n",
       "    <tr>\n",
       "      <th>7</th>\n",
       "      <td>8</td>\n",
       "      <td>1</td>\n",
       "      <td>@Impatientraider On second thought, there’s ju...</td>\n",
       "    </tr>\n",
       "    <tr>\n",
       "      <th>8</th>\n",
       "      <td>9</td>\n",
       "      <td>1</td>\n",
       "      <td>Jgh , but we have to go to Bayan :D bye</td>\n",
       "    </tr>\n",
       "    <tr>\n",
       "      <th>9</th>\n",
       "      <td>10</td>\n",
       "      <td>1</td>\n",
       "      <td>As an act of mischievousness, am calling the E...</td>\n",
       "    </tr>\n",
       "  </tbody>\n",
       "</table>\n",
       "</div>"
      ],
      "text/plain": [
       "   df_id  sentiment                                               text\n",
       "0      1          1  #FollowFriday @France_Inte @PKuchly57 @Milipol...\n",
       "1      2          1  @Lamb2ja Hey James! How odd :/ Please call our...\n",
       "2      3          1  @DespiteOfficial we had a listen last night :)...\n",
       "3      4          1                               @97sides CONGRATS :)\n",
       "4      5          1  yeaaaah yippppy!!!  my accnt verified rqst has...\n",
       "5      6          1  @BhaktisBanter @PallaviRuhail This one is irre...\n",
       "6      7          1  We don't like to keep our lovely customers wai...\n",
       "7      8          1  @Impatientraider On second thought, there’s ju...\n",
       "8      9          1            Jgh , but we have to go to Bayan :D bye\n",
       "9     10          1  As an act of mischievousness, am calling the E..."
      ]
     },
     "execution_count": 8,
     "metadata": {
      "tags": []
     },
     "output_type": "execute_result"
    }
   ],
   "source": [
    "# printing the dataframe and assign\n",
    "df = df_tam[['df_id','sentiment','text']]\n",
    "df.head(10)"
   ]
  },
  {
   "cell_type": "code",
   "execution_count": 9,
   "metadata": {
    "colab": {
     "base_uri": "https://localhost:8080/"
    },
    "executionInfo": {
     "elapsed": 388,
     "status": "ok",
     "timestamp": 1621801870398,
     "user": {
      "displayName": "Melike Akalan",
      "photoUrl": "",
      "userId": "07496756220803219284"
     },
     "user_tz": -180
    },
    "id": "Ffnxb4SxeIHL",
    "outputId": "f513cc25-01cc-406d-834c-eba054b82df2"
   },
   "outputs": [
    {
     "data": {
      "text/plain": [
       "1    5000\n",
       "0    5000\n",
       "Name: sentiment, dtype: int64"
      ]
     },
     "execution_count": 9,
     "metadata": {
      "tags": []
     },
     "output_type": "execute_result"
    }
   ],
   "source": [
    "# verifying the sentimnet values\n",
    "# 1 is positive sentimnet and 0 is negative sentiment\n",
    "df['sentiment'].value_counts()"
   ]
  },
  {
   "cell_type": "code",
   "execution_count": 10,
   "metadata": {
    "executionInfo": {
     "elapsed": 244,
     "status": "ok",
     "timestamp": 1621801873723,
     "user": {
      "displayName": "Melike Akalan",
      "photoUrl": "",
      "userId": "07496756220803219284"
     },
     "user_tz": -180
    },
    "id": "SL8sTPThhjks"
   },
   "outputs": [],
   "source": [
    "# pre-processing the data\n",
    "# define a function to remove the @mentions and other useless text from the tweets\n",
    "\n",
    "import re\n",
    "\n",
    "def text_cleaning(tweet):\n",
    "  tweet = re.sub(r'@[A-Za-z0-9]+', '', tweet)        # removing @mentions\n",
    "  tweet = re.sub(r'@[A-Za-zA-Z0-9]+', '', tweet)     # removing @mentions\n",
    "  tweet = re.sub(r'@[A-Za-z]+', '', tweet)           # removing @mentions\n",
    "  tweet = re.sub(r'@[-)]+', '', tweet)               # removing @mentions\n",
    "  tweet = re.sub(r'#', '', tweet)                    # removing '#' sign\n",
    "  tweet = re.sub(r'RT[\\s]+', '', tweet)              # removing RT\n",
    "  tweet = re.sub(r'https?:\\/\\/.*[\\r\\n]*', '', tweet) # removing hyper link\n",
    "  tweet = re.sub(r'&[a-z;]+', '', tweet)             # removing '&gt\n",
    " \n",
    "  return tweet\n"
   ]
  },
  {
   "cell_type": "code",
   "execution_count": 11,
   "metadata": {
    "colab": {
     "base_uri": "https://localhost:8080/",
     "height": 296
    },
    "executionInfo": {
     "elapsed": 376,
     "status": "ok",
     "timestamp": 1621801877108,
     "user": {
      "displayName": "Melike Akalan",
      "photoUrl": "",
      "userId": "07496756220803219284"
     },
     "user_tz": -180
    },
    "id": "xMV24xClCCsI",
    "outputId": "9b9fb5f2-2c90-457b-def1-20bddca6d26b"
   },
   "outputs": [
    {
     "name": "stderr",
     "output_type": "stream",
     "text": [
      "/usr/local/lib/python3.7/dist-packages/ipykernel_launcher.py:1: SettingWithCopyWarning: \n",
      "A value is trying to be set on a copy of a slice from a DataFrame.\n",
      "Try using .loc[row_indexer,col_indexer] = value instead\n",
      "\n",
      "See the caveats in the documentation: https://pandas.pydata.org/pandas-docs/stable/user_guide/indexing.html#returning-a-view-versus-a-copy\n",
      "  \"\"\"Entry point for launching an IPython kernel.\n"
     ]
    },
    {
     "data": {
      "text/html": [
       "<div>\n",
       "<style scoped>\n",
       "    .dataframe tbody tr th:only-of-type {\n",
       "        vertical-align: middle;\n",
       "    }\n",
       "\n",
       "    .dataframe tbody tr th {\n",
       "        vertical-align: top;\n",
       "    }\n",
       "\n",
       "    .dataframe thead th {\n",
       "        text-align: right;\n",
       "    }\n",
       "</style>\n",
       "<table border=\"1\" class=\"dataframe\">\n",
       "  <thead>\n",
       "    <tr style=\"text-align: right;\">\n",
       "      <th></th>\n",
       "      <th>df_id</th>\n",
       "      <th>sentiment</th>\n",
       "      <th>text</th>\n",
       "    </tr>\n",
       "  </thead>\n",
       "  <tbody>\n",
       "    <tr>\n",
       "      <th>0</th>\n",
       "      <td>1</td>\n",
       "      <td>1</td>\n",
       "      <td>FollowFriday _Inte  _Paris for being top engag...</td>\n",
       "    </tr>\n",
       "    <tr>\n",
       "      <th>1</th>\n",
       "      <td>2</td>\n",
       "      <td>1</td>\n",
       "      <td>Hey James! How odd :/ Please call our Contact...</td>\n",
       "    </tr>\n",
       "    <tr>\n",
       "      <th>2</th>\n",
       "      <td>3</td>\n",
       "      <td>1</td>\n",
       "      <td>we had a listen last night :) As You Bleed is...</td>\n",
       "    </tr>\n",
       "    <tr>\n",
       "      <th>3</th>\n",
       "      <td>4</td>\n",
       "      <td>1</td>\n",
       "      <td>CONGRATS :)</td>\n",
       "    </tr>\n",
       "    <tr>\n",
       "      <th>4</th>\n",
       "      <td>5</td>\n",
       "      <td>1</td>\n",
       "      <td>yeaaaah yippppy!!!  my accnt verified rqst has...</td>\n",
       "    </tr>\n",
       "  </tbody>\n",
       "</table>\n",
       "</div>"
      ],
      "text/plain": [
       "   df_id  sentiment                                               text\n",
       "0      1          1  FollowFriday _Inte  _Paris for being top engag...\n",
       "1      2          1   Hey James! How odd :/ Please call our Contact...\n",
       "2      3          1   we had a listen last night :) As You Bleed is...\n",
       "3      4          1                                        CONGRATS :)\n",
       "4      5          1  yeaaaah yippppy!!!  my accnt verified rqst has..."
      ]
     },
     "execution_count": 11,
     "metadata": {
      "tags": []
     },
     "output_type": "execute_result"
    }
   ],
   "source": [
    "df['text'] = df['text'].apply(text_cleaning)\n",
    "df.head()"
   ]
  },
  {
   "cell_type": "code",
   "execution_count": 12,
   "metadata": {
    "executionInfo": {
     "elapsed": 599,
     "status": "ok",
     "timestamp": 1621801880849,
     "user": {
      "displayName": "Melike Akalan",
      "photoUrl": "",
      "userId": "07496756220803219284"
     },
     "user_tz": -180
    },
    "id": "8PU-fCrtCNhE"
   },
   "outputs": [],
   "source": [
    "# splitting the data into training and testing data\n",
    "from sklearn.model_selection import train_test_split\n",
    "x_train, x_test, y_train, y_test = train_test_split(df['text'].values, df['sentiment'].values, test_size=0.2)\n"
   ]
  },
  {
   "cell_type": "code",
   "execution_count": 13,
   "metadata": {
    "colab": {
     "base_uri": "https://localhost:8080/"
    },
    "executionInfo": {
     "elapsed": 11,
     "status": "ok",
     "timestamp": 1621801882809,
     "user": {
      "displayName": "Melike Akalan",
      "photoUrl": "",
      "userId": "07496756220803219284"
     },
     "user_tz": -180
    },
    "id": "xot2sL-7IAB9",
    "outputId": "3804c062-92a2-44e3-eb7f-ec4d71bd173c"
   },
   "outputs": [
    {
     "name": "stdout",
     "output_type": "stream",
     "text": [
      "Text:  Looking for fun? SNAPCHAT - ericavan18 snapchat snapchatme likeforlike interracial model repost sexo :( \n",
      "Sentiment:  0\n"
     ]
    }
   ],
   "source": [
    "# chechking the data split\n",
    "print('Text: ', x_train[0])\n",
    "print('Sentiment: ', y_train[0])"
   ]
  },
  {
   "cell_type": "code",
   "execution_count": 14,
   "metadata": {
    "executionInfo": {
     "elapsed": 258,
     "status": "ok",
     "timestamp": 1621801886601,
     "user": {
      "displayName": "Melike Akalan",
      "photoUrl": "",
      "userId": "07496756220803219284"
     },
     "user_tz": -180
    },
    "id": "vBvgfOo7LsLV"
   },
   "outputs": [],
   "source": [
    "# converting the strings into integers using Tokenizer\n",
    "from tensorflow.keras.preprocessing.text import Tokenizer\n",
    "from tensorflow.keras.preprocessing.sequence import pad_sequences\n",
    "#from nltk.tokenize import TweetTokenizer \n",
    "\n",
    "# instantiating the tokenizer\n",
    "max_vocab = 20000000\n",
    "tokenizer = Tokenizer(num_words=max_vocab)\n",
    "tokenizer.fit_on_texts(x_train)"
   ]
  },
  {
   "cell_type": "code",
   "execution_count": 15,
   "metadata": {
    "colab": {
     "base_uri": "https://localhost:8080/"
    },
    "executionInfo": {
     "elapsed": 17,
     "status": "ok",
     "timestamp": 1621801888737,
     "user": {
      "displayName": "Melike Akalan",
      "photoUrl": "",
      "userId": "07496756220803219284"
     },
     "user_tz": -180
    },
    "id": "9hL-q-cENVky",
    "outputId": "6b064df7-c12e-4a0d-ed14-0f46e77b70b2"
   },
   "outputs": [
    {
     "name": "stdout",
     "output_type": "stream",
     "text": [
      "The size of dataset vocab is:  11532\n"
     ]
    }
   ],
   "source": [
    "# checking the word index and find out the vocabulary of the dataset\n",
    "wordidx = tokenizer.word_index\n",
    "V = len(wordidx)\n",
    "print('The size of dataset vocab is: ', V)"
   ]
  },
  {
   "cell_type": "code",
   "execution_count": 16,
   "metadata": {
    "colab": {
     "base_uri": "https://localhost:8080/"
    },
    "executionInfo": {
     "elapsed": 906,
     "status": "ok",
     "timestamp": 1621801892312,
     "user": {
      "displayName": "Melike Akalan",
      "photoUrl": "",
      "userId": "07496756220803219284"
     },
     "user_tz": -180
    },
    "id": "w2KettNzNveI",
    "outputId": "8baa1bde-a4a6-43bc-dc66-543650d80afe"
   },
   "outputs": [
    {
     "name": "stdout",
     "output_type": "stream",
     "text": [
      "Training sequence:  [156, 8, 152, 122, 4110, 122, 1329, 1174, 1588, 827, 4111, 1589]\n",
      "Testing sequence:  [351, 14, 3806]\n"
     ]
    }
   ],
   "source": [
    "# converting train and test sentences into sequences\n",
    "train_seq = tokenizer.texts_to_sequences(x_train)\n",
    "test_seq = tokenizer.texts_to_sequences(x_test)\n",
    "print('Training sequence: ', train_seq[0])\n",
    "print('Testing sequence: ', test_seq[0])"
   ]
  },
  {
   "cell_type": "code",
   "execution_count": 17,
   "metadata": {
    "colab": {
     "base_uri": "https://localhost:8080/"
    },
    "executionInfo": {
     "elapsed": 268,
     "status": "ok",
     "timestamp": 1621801893955,
     "user": {
      "displayName": "Melike Akalan",
      "photoUrl": "",
      "userId": "07496756220803219284"
     },
     "user_tz": -180
    },
    "id": "c5Uczt_cPBJi",
    "outputId": "5dd44dc3-42d7-40e9-e343-346bd4dd1221"
   },
   "outputs": [
    {
     "name": "stdout",
     "output_type": "stream",
     "text": [
      "The length of training sequence is:  31\n"
     ]
    }
   ],
   "source": [
    "# padding the sequence to get equal length sequence because its convertional to use same size sequences\n",
    "# padding the training sequence\n",
    "pad_train = pad_sequences(train_seq)\n",
    "T = pad_train.shape[1]\n",
    "print('The length of training sequence is: ', T)"
   ]
  },
  {
   "cell_type": "code",
   "execution_count": 18,
   "metadata": {
    "colab": {
     "base_uri": "https://localhost:8080/"
    },
    "executionInfo": {
     "elapsed": 9,
     "status": "ok",
     "timestamp": 1621801896762,
     "user": {
      "displayName": "Melike Akalan",
      "photoUrl": "",
      "userId": "07496756220803219284"
     },
     "user_tz": -180
    },
    "id": "6hMd6as3SkPl",
    "outputId": "53d3546a-953e-459a-94e6-1e1bbaf960cd"
   },
   "outputs": [
    {
     "name": "stdout",
     "output_type": "stream",
     "text": [
      "The length of testing sequence is:  31\n"
     ]
    }
   ],
   "source": [
    "# padding the test sequence\n",
    "pad_test = pad_sequences(test_seq, maxlen=T)\n",
    "print('The length of testing sequence is: ', pad_test.shape[1])"
   ]
  },
  {
   "cell_type": "code",
   "execution_count": 19,
   "metadata": {
    "executionInfo": {
     "elapsed": 5621,
     "status": "ok",
     "timestamp": 1621801903716,
     "user": {
      "displayName": "Melike Akalan",
      "photoUrl": "",
      "userId": "07496756220803219284"
     },
     "user_tz": -180
    },
    "id": "ciDqS_JvTAfo"
   },
   "outputs": [],
   "source": [
    "# building the model\n",
    "from tensorflow.keras.layers import Input, Dense, Embedding, LSTM, GlobalMaxPooling1D\n",
    "from tensorflow.keras.models import Model\n",
    "\n",
    "D = 20\n",
    "M = 15\n",
    "\n",
    "i = Input(shape=(T, ))\n",
    "x = Embedding(V+1, D)(i)\n",
    "x = LSTM(M, return_sequences=True)(x)\n",
    "x = GlobalMaxPooling1D()(x)\n",
    "x = Dense(32, activation='relu')(x)\n",
    "x = Dense(1, activation='sigmoid')(x)\n",
    "\n",
    "model = Model(i,x)\n"
   ]
  },
  {
   "cell_type": "code",
   "execution_count": 20,
   "metadata": {
    "executionInfo": {
     "elapsed": 253,
     "status": "ok",
     "timestamp": 1621801905227,
     "user": {
      "displayName": "Melike Akalan",
      "photoUrl": "",
      "userId": "07496756220803219284"
     },
     "user_tz": -180
    },
    "id": "N_3omlJaXHBt"
   },
   "outputs": [],
   "source": [
    "# compiling the model\n",
    "model.compile(optimizer='adam',\n",
    "              loss='binary_crossentropy',\n",
    "              metrics=['accuracy'])"
   ]
  },
  {
   "cell_type": "code",
   "execution_count": 21,
   "metadata": {
    "colab": {
     "base_uri": "https://localhost:8080/"
    },
    "executionInfo": {
     "elapsed": 11,
     "status": "ok",
     "timestamp": 1621801906429,
     "user": {
      "displayName": "Melike Akalan",
      "photoUrl": "",
      "userId": "07496756220803219284"
     },
     "user_tz": -180
    },
    "id": "B8MxMBUi1qUr",
    "outputId": "f19ea2d3-15aa-487c-c8aa-44cd7b49e478"
   },
   "outputs": [
    {
     "name": "stdout",
     "output_type": "stream",
     "text": [
      "Model: \"model\"\n",
      "_________________________________________________________________\n",
      "Layer (type)                 Output Shape              Param #   \n",
      "=================================================================\n",
      "input_1 (InputLayer)         [(None, 31)]              0         \n",
      "_________________________________________________________________\n",
      "embedding (Embedding)        (None, 31, 20)            230660    \n",
      "_________________________________________________________________\n",
      "lstm (LSTM)                  (None, 31, 15)            2160      \n",
      "_________________________________________________________________\n",
      "global_max_pooling1d (Global (None, 15)                0         \n",
      "_________________________________________________________________\n",
      "dense (Dense)                (None, 32)                512       \n",
      "_________________________________________________________________\n",
      "dense_1 (Dense)              (None, 1)                 33        \n",
      "=================================================================\n",
      "Total params: 233,365\n",
      "Trainable params: 233,365\n",
      "Non-trainable params: 0\n",
      "_________________________________________________________________\n"
     ]
    }
   ],
   "source": [
    "model.summary()"
   ]
  },
  {
   "cell_type": "code",
   "execution_count": 22,
   "metadata": {
    "colab": {
     "base_uri": "https://localhost:8080/"
    },
    "executionInfo": {
     "elapsed": 36608,
     "status": "ok",
     "timestamp": 1621801957552,
     "user": {
      "displayName": "Melike Akalan",
      "photoUrl": "",
      "userId": "07496756220803219284"
     },
     "user_tz": -180
    },
    "id": "ZxYfZTBlXhGm",
    "outputId": "8463665d-3192-4324-d377-017ab4c8a09a"
   },
   "outputs": [
    {
     "name": "stdout",
     "output_type": "stream",
     "text": [
      "Epoch 1/2\n",
      "250/250 [==============================] - 35s 9ms/step - loss: 0.6664 - accuracy: 0.6121 - val_loss: 0.4734 - val_accuracy: 0.7795\n",
      "Epoch 2/2\n",
      "250/250 [==============================] - 2s 7ms/step - loss: 0.3858 - accuracy: 0.8369 - val_loss: 0.4421 - val_accuracy: 0.7915\n"
     ]
    }
   ],
   "source": [
    "# training the model\n",
    "r = model.fit(pad_train, y_train, validation_data=(pad_test, y_test), epochs=2, verbose=1, shuffle=True)"
   ]
  },
  {
   "cell_type": "code",
   "execution_count": 23,
   "metadata": {
    "colab": {
     "base_uri": "https://localhost:8080/",
     "height": 282
    },
    "executionInfo": {
     "elapsed": 337,
     "status": "ok",
     "timestamp": 1621801964720,
     "user": {
      "displayName": "Melike Akalan",
      "photoUrl": "",
      "userId": "07496756220803219284"
     },
     "user_tz": -180
    },
    "id": "Oh0_qsmlX31i",
    "outputId": "2322ffd2-67b7-46d6-dfc9-978200875403"
   },
   "outputs": [
    {
     "data": {
      "text/plain": [
       "<matplotlib.legend.Legend at 0x7f27ab7ca710>"
      ]
     },
     "execution_count": 23,
     "metadata": {
      "tags": []
     },
     "output_type": "execute_result"
    },
    {
     "data": {
      "image/png": "[encoded data removed]",
      "text/plain": [
       "<Figure size 432x288 with 1 Axes>"
      ]
     },
     "metadata": {
      "needs_background": "light",
      "tags": []
     },
     "output_type": "display_data"
    }
   ],
   "source": [
    "# Evaluating the model\n",
    "# plotting the loss and validation loss of the model\n",
    "plt.plot(r.history['loss'], label='loss')\n",
    "plt.plot(r.history['val_loss'], label='val_loss')\n",
    "plt.legend()"
   ]
  },
  {
   "cell_type": "code",
   "execution_count": 24,
   "metadata": {
    "colab": {
     "base_uri": "https://localhost:8080/",
     "height": 282
    },
    "executionInfo": {
     "elapsed": 280,
     "status": "ok",
     "timestamp": 1621801967486,
     "user": {
      "displayName": "Melike Akalan",
      "photoUrl": "",
      "userId": "07496756220803219284"
     },
     "user_tz": -180
    },
    "id": "UEIGli53Y02y",
    "outputId": "a54ba02e-6fbc-452b-9175-b304ae935415"
   },
   "outputs": [
    {
     "data": {
      "text/plain": [
       "<matplotlib.legend.Legend at 0x7f27ab744ad0>"
      ]
     },
     "execution_count": 24,
     "metadata": {
      "tags": []
     },
     "output_type": "execute_result"
    },
    {
     "data": {
      "image/png": "[encoded data removed]",
      "text/plain": [
       "<Figure size 432x288 with 1 Axes>"
      ]
     },
     "metadata": {
      "needs_background": "light",
      "tags": []
     },
     "output_type": "display_data"
    }
   ],
   "source": [
    "# plotting the accuracy and validation accuracy of the model\n",
    "plt.plot(r.history['accuracy'], label='accuracy')\n",
    "plt.plot(r.history['val_accuracy'], label='val_accuracy')\n",
    "plt.legend()"
   ]
  },
  {
   "cell_type": "code",
   "execution_count": 28,
   "metadata": {
    "colab": {
     "base_uri": "https://localhost:8080/"
    },
    "executionInfo": {
     "elapsed": 241,
     "status": "ok",
     "timestamp": 1621801991235,
     "user": {
      "displayName": "Melike Akalan",
      "photoUrl": "",
      "userId": "07496756220803219284"
     },
     "user_tz": -180
    },
    "id": "N61qggSeZPzM",
    "outputId": "d04bf5a0-096e-46d9-987c-6a2890646676"
   },
   "outputs": [
    {
     "name": "stdout",
     "output_type": "stream",
     "text": [
      "It is a positive sentiment\n"
     ]
    }
   ],
   "source": [
    "# Predicting the sentiment of any text\n",
    "\n",
    "def predict_sentiment(text):\n",
    "  \n",
    "  # preprocessing the given text\n",
    "  text_seq = tokenizer.texts_to_sequences(text)\n",
    "  text_pad = pad_sequences(text_seq, maxlen=T)\n",
    "\n",
    "  # predicting the class\n",
    "  predicted_sentiment = model.predict(text_pad).round()\n",
    "  if predicted_sentiment == 1.0:\n",
    "    return (print('It is a positive sentiment'))\n",
    "  else:\n",
    "    return (print('It is a negative sentiment'))\n",
    "\n",
    "text = ['I love #data #datascience ']\n",
    "predict_sentiment(text)"
   ]
  }
 ],
 "metadata": {
  "accelerator": "GPU",
  "colab": {
   "authorship_tag": "ABX9TyOr7FrTtc2uVaZtWrp1nbao",
   "collapsed_sections": [],
   "name": "lstm_tensorflow.ipynb",
   "provenance": []
  },
  "kernelspec": {
   "display_name": "Python 3",
   "language": "python",
   "name": "python3"
  },
  "language_info": {
   "codemirror_mode": {
    "name": "ipython",
    "version": 3
   },
   "file_extension": ".py",
   "mimetype": "text/x-python",
   "name": "python",
   "nbconvert_exporter": "python",
   "pygments_lexer": "ipython3",
   "version": "3.8.5"
  }
 },
 "nbformat": 4,
 "nbformat_minor": 1
}
